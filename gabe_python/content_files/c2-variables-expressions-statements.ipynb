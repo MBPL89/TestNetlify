{
 "cells": [
  {
   "cell_type": "markdown",
   "metadata": {
    "collapsed": true,
    "jupyter": {
     "outputs_hidden": true
    }
   },
   "source": [
    "# 1. Introduction to Python Notebook and Python programming"
   ]
  },
  {
   "cell_type": "markdown",
   "metadata": {},
   "source": [
    "## Talking with Python"
   ]
  },
  {
   "cell_type": "markdown",
   "metadata": {},
   "source": [
    "Python is amazingly complex and powerful. It is also very picky about the syntax you use to communicate with it. However, Python is not intelligent. You are really just having a conversation with yourself, but using proper syntax. Python is a way for the creators of programs to express how the conversation is supposed to proceed.\n",
    "\n",
    "Programming languages like Python need to be translated. There are two types of \"translator\": (1) interpreters and (2) compilers.\n",
    "\n",
    "An **interpreter** reads the source code of the program as written by the programmer, parses the source code, and interprets the instructions on the fly. Python is an interpreter and when we are running Python interactively (like in this notebook), we can type a line of Python (a sentence) and Python processes it immediately and is ready for us to type another line of Python.\n",
    "\n",
    "A **compiler** needs to be handed the entire program in a file, and then it runs a process to translate the high-level source code into machine language and then the compiler puts the resulting machine language into a file for later execution."
   ]
  },
  {
   "cell_type": "markdown",
   "metadata": {},
   "source": [
    "Unlike human languages, the Python vocabulary is actually pretty small. We call this \"vocabulary\" the \"reserved words\". These are words that have very special meaning to Python. When Python sees these words in a Python program, they have one and only one meaning to Python. \n",
    "\n",
    "The reserved words in the language where humans talk to Python include the following:"
   ]
  },
  {
   "cell_type": "markdown",
   "metadata": {},
   "source": [
    "```  \n",
    "and       del       global      not       with\n",
    "as        elif      if          or        yield\n",
    "assert    else      import      pass\n",
    "break     except    in          raise\n",
    "class     finally   is          return\n",
    "continue  for       lambda      try\n",
    "def       from      nonlocal    while"
   ]
  },
  {
   "cell_type": "markdown",
   "metadata": {},
   "source": [
    "You will learn some fo these words later in the course. For now, remember to not use them as variable or funtion names."
   ]
  },
  {
   "cell_type": "markdown",
   "metadata": {},
   "source": [
    "During this course you will learn how to write and execute your function but also how to use Python's built-in functions. Python has many built-in functions that are always ready to use. \n",
    "The first one you should learn is **help()**. You can use it any time you need to refresh your memory on how a particular function works. Type it in the line below and run (ask the instructor how to run a piece of code if you are not sure)."
   ]
  },
  {
   "cell_type": "code",
   "execution_count": null,
   "metadata": {},
   "outputs": [],
   "source": [
    "help()\n"
   ]
  },
  {
   "cell_type": "markdown",
   "metadata": {},
   "source": [
    "As you can see, you opened an interactive help. You can type name of any function, module, etc. Until you type \"quit\", the help prompt will remain active, allwoing you to ask more question. Yet, it will block all the other lines from running. \n",
    "Now ask help about **print()** function (type \"print\" in the help prompt). Then close the help prompt (type \"quit\" in the help prompt)."
   ]
  },
  {
   "cell_type": "markdown",
   "metadata": {},
   "source": [
    "Now, once you know how the print function works, tell Python to print `Hello world!` (as every true progrmmer should do ;) )"
   ]
  },
  {
   "cell_type": "code",
   "execution_count": null,
   "metadata": {},
   "outputs": [],
   "source": [
    "print(\"Hello world!\")"
   ]
  },
  {
   "cell_type": "markdown",
   "metadata": {},
   "source": [
    "Some of the lines in Python tell Python that you want it to remember some value for later. They do not give any visible output. Pick a name for that value to be remembered. We use the term *variable* to refer to the labels we use to refer to this stored data."
   ]
  },
  {
   "cell_type": "code",
   "execution_count": null,
   "metadata": {},
   "outputs": [],
   "source": [
    "x = 10"
   ]
  },
  {
   "cell_type": "markdown",
   "metadata": {},
   "source": [
    "You can use that variable to retrieve the value later. Instead of typing  \n",
    "`print(10)`  \n",
    "you can type  \n",
    "`print([vairbale name])` (where `[variable name]` is the name you chose earlier)\n",
    "\n",
    "Try the print the value assigned to `x`"
   ]
  },
  {
   "cell_type": "code",
   "execution_count": null,
   "metadata": {},
   "outputs": [],
   "source": [
    "print(x)"
   ]
  },
  {
   "cell_type": "markdown",
   "metadata": {},
   "source": [
    "Any value can be assigned to a variable. Variables can be also used in longer experssions or assigned to other variables (see the example below). Later you will see when it becomes useful."
   ]
  },
  {
   "cell_type": "code",
   "execution_count": null,
   "metadata": {},
   "outputs": [],
   "source": [
    "y = x * 2"
   ]
  },
  {
   "cell_type": "code",
   "execution_count": null,
   "metadata": {},
   "outputs": [],
   "source": [
    "print(y)"
   ]
  },
  {
   "cell_type": "markdown",
   "metadata": {},
   "source": [
    "Later, we will talk more about the variables."
   ]
  },
  {
   "cell_type": "markdown",
   "metadata": {},
   "source": [
    "## Programs"
   ]
  },
  {
   "cell_type": "markdown",
   "metadata": {},
   "source": [
    "Typing commands into the Python interpreter is a great way to experiment with Python's features, but it is not recommended for solving more complex problems.\n",
    "\n",
    "Normally, when we want to write a program, we use a text editor to write the Python instructions into a file, which is called a **script**. By convention, Python scripts have names that end with .py.\n",
    "\n",
    "To execute the script, you have to tell the Python interpreter the name of the file. Let's say we have a file called `python.py`. In a command window (or terminal), you would run a file as follows:  \n",
    "```$ python python.py```"
   ]
  },
  {
   "cell_type": "markdown",
   "metadata": {},
   "source": [
    "We use a special type of Python called iPython. In iPython we can use special notebooks (like the one you are reading now), which let us mix formatted text and Python code and exectue Python code directly in the notebook.  \n",
    "\n",
    "If you want to install Python locally on your computer, check out one of these links:  \n",
    "Windows: https://www.py4e.com/software-win.php  \n",
    "Mac: https://www.py4e.com/software-mac.php"
   ]
  },
  {
   "cell_type": "markdown",
   "metadata": {},
   "source": [
    "## What is a program?\n",
    "\n",
    "The definition of a **program** at its most basic is a sequence of Python statements that have been crafted to do something. "
   ]
  },
  {
   "cell_type": "markdown",
   "metadata": {},
   "source": [
    "For example, look at the following text. Look at the text and figure out the most common word and how many times it occurs.\n",
    "\n",
    "```\n",
    "it may help to understand human affairs to be clear that most of the great triumphs and tragedies of history are caused, not by people being fundamentally good or fundamentally bad, but by people being fundamentally people ... he rather liked people\n",
    "```\n",
    "\n",
    "Then imagine that you are doing this task looking at millions of lines of text. It would be quicker for you to learn Python and write a Python program to count the words than it would be to manually scan the words.\n",
    "\n",
    "Now take a look at the code below and run it. It does exactly what you were supposed to do (but faster and, probably, more accurately)."
   ]
  },
  {
   "cell_type": "code",
   "execution_count": null,
   "metadata": {},
   "outputs": [],
   "source": [
    "text = \"it may help to understand human affairs to be clear that most of the great triumphs and tragedies of history are caused, not by people being fundamentally good or fundamentally bad, but by people being fundamentally people ... he rather liked people\"\n",
    "counts = dict()\n",
    "\n",
    "words = text.split()\n",
    "\n",
    "for word in words:\n",
    "    counts[word] = counts.get(word, 0) + 1\n",
    "\n",
    "bigcount = None\n",
    "bigword = None\n",
    "for word, count in list(counts.items()):\n",
    "    if bigcount is None or count > bigcount:\n",
    "        bigword = word\n",
    "        bigcount = count\n",
    "\n",
    "print(bigword, bigcount)"
   ]
  },
  {
   "cell_type": "markdown",
   "metadata": {},
   "source": [
    "You don't even need to know Python to use this program. You are the end user, you simply use the program. This is a good example of how Python and the Python language are acting as an intermediary between the end user and the programmer. "
   ]
  },
  {
   "cell_type": "markdown",
   "metadata": {},
   "source": [
    "## The building blocks of a program  \n",
    "\n",
    "There are some low-level conceptual patterns that we use to construct programs. These constructs are not just for Python programs, they are part of every programming language from machine language up to the high-level languages.\n",
    "\n",
    "**input**  \n",
    "Get data from the \"outside world\". This might be reading data from a file, or even some kind of sensor like a microphone or GPS. In our initial programs, our input will come from the user typing data on the keyboard.  \n",
    "\n",
    "**output**  \n",
    "Display the results of the program on a screen or store them in a file or perhaps write them to a device like a speaker to play music or speak text.  \n",
    "\n",
    "**sequential execution**  \n",
    "Perform statements one after another in the order they are encountered in the script.  \n",
    "\n",
    "**conditional execution**  \n",
    "Check for certain conditions and then execute or skip a sequence of statements.  \n",
    "\n",
    "**repeated execution**  \n",
    "Perform some set of statements repeatedly, usually with some variation.  \n",
    "\n",
    "**reuse**  \n",
    "Write a set of instructions once and give them a name and then reuse those instructions as needed throughout your program. "
   ]
  },
  {
   "cell_type": "markdown",
   "metadata": {},
   "source": [
    "# 2. Variables, expressions and statements"
   ]
  },
  {
   "cell_type": "markdown",
   "metadata": {},
   "source": [
    "## Values and value types"
   ]
  },
  {
   "cell_type": "markdown",
   "metadata": {},
   "source": [
    "A value is one of the basic things a program works with, like a letter or a number. These values belong to different types: 2 is an integer, and \"Hello, World!\" is a string, so called because it contains a \"string\" of letters.\n",
    "\n",
    "These are all types in Python:"
   ]
  },
  {
   "cell_type": "markdown",
   "metadata": {},
   "source": [
    "`int` - numeric value (e.g `1`)  \n",
    "`float` - a decimal (e.g `2.5`)  \n",
    "`complex` - complex numbers coposed of real part and imaginary part (e.g. `6+4j` where j represents the imaginary part)  \n",
    "`bool` - Boolean value - `True` or `False`  \n",
    "`str` - text value (a string of letters) (e.g. `'Hello world!'`) -  always enclosed in quotation marks!  \n",
    "`list` - a list of values - `[1,2,3,4]`  \n",
    "`tuple` - a tuple - `(1,2,3,4)`  \n",
    "`dict` - a dictionary - `{1:\"one\", 2:\"two\", 3:\"three\"}`\n",
    "\n",
    "To find a type of a value, you use function `type()`\n",
    "\n",
    "`type([value])`"
   ]
  },
  {
   "cell_type": "markdown",
   "metadata": {},
   "source": [
    "What is the data type of `\"Hello world!\"`?"
   ]
  },
  {
   "cell_type": "code",
   "execution_count": null,
   "metadata": {},
   "outputs": [],
   "source": [
    "type(pippo)\n"
   ]
  },
  {
   "cell_type": "markdown",
   "metadata": {},
   "source": [
    "What is the data type of `17`?"
   ]
  },
  {
   "cell_type": "code",
   "execution_count": null,
   "metadata": {},
   "outputs": [],
   "source": []
  },
  {
   "cell_type": "markdown",
   "metadata": {},
   "source": [
    "What is the data type of `3.2`?"
   ]
  },
  {
   "cell_type": "code",
   "execution_count": null,
   "metadata": {},
   "outputs": [],
   "source": []
  },
  {
   "cell_type": "markdown",
   "metadata": {},
   "source": [
    "What is the type of `3.2` and `\"3.2\"`? Why are they different?"
   ]
  },
  {
   "cell_type": "code",
   "execution_count": null,
   "metadata": {},
   "outputs": [],
   "source": []
  },
  {
   "cell_type": "markdown",
   "metadata": {},
   "source": [
    "What will happen if you try to print `1,000,000` in Python? What is the type of `1,000,000`?"
   ]
  },
  {
   "cell_type": "code",
   "execution_count": null,
   "metadata": {},
   "outputs": [],
   "source": [
    "type(1,000,000)\n"
   ]
  },
  {
   "cell_type": "markdown",
   "metadata": {},
   "source": [
    "## Variables"
   ]
  },
  {
   "cell_type": "markdown",
   "metadata": {},
   "source": [
    "One of the most powerful features of a programming language is the ability to manipulate variables. A variable is a name that refers to a value. \n",
    "You assign a value to a variable using `=` sign:\n",
    "\n",
    "`[variable] = [value]`"
   ]
  },
  {
   "cell_type": "markdown",
   "metadata": {},
   "source": [
    "Assign `3.1415926535897931` to variable `pi`"
   ]
  },
  {
   "cell_type": "code",
   "execution_count": null,
   "metadata": {},
   "outputs": [],
   "source": []
  },
  {
   "cell_type": "markdown",
   "metadata": {},
   "source": [
    "You can assign value of any type to a variable. \n",
    "\n",
    "Assign `'Python ROCKS!!!'` to a variable called `message`."
   ]
  },
  {
   "cell_type": "code",
   "execution_count": null,
   "metadata": {},
   "outputs": [],
   "source": [
    "message = 'Python ROCKS!!!'"
   ]
  },
  {
   "cell_type": "markdown",
   "metadata": {},
   "source": [
    "Notice that assignement to a variable does not produce any output. You can print the value assigned to a variable by passing variable name to the `print()` function.\n",
    "\n",
    "\n",
    "**Attention!!**\n",
    "You pass the variable name without the quotation marks. That's how we can tell variables from strings.\n",
    "\n",
    "Print `message`"
   ]
  },
  {
   "cell_type": "code",
   "execution_count": null,
   "metadata": {},
   "outputs": [],
   "source": [
    "print(message)"
   ]
  },
  {
   "cell_type": "markdown",
   "metadata": {},
   "source": [
    "Print `pi`"
   ]
  },
  {
   "cell_type": "code",
   "execution_count": null,
   "metadata": {},
   "outputs": [],
   "source": []
  },
  {
   "cell_type": "markdown",
   "metadata": {},
   "source": [
    "Now, you can check the type of the values by simply checking the type of a variable. Check the type of pi and message."
   ]
  },
  {
   "cell_type": "code",
   "execution_count": null,
   "metadata": {},
   "outputs": [],
   "source": [
    "type(message)"
   ]
  },
  {
   "cell_type": "code",
   "execution_count": null,
   "metadata": {},
   "outputs": [],
   "source": []
  },
  {
   "cell_type": "markdown",
   "metadata": {},
   "source": [
    "Have you noticed that the type of a variable is in fact the type of the assigned value?\n",
    "\n",
    "-------------------"
   ]
  },
  {
   "cell_type": "markdown",
   "metadata": {},
   "source": [
    "## Statements\n",
    "\n",
    "You have just learned the second type of statments.\n",
    "\n",
    "A **statement** is a unit of code that the Python interpreter can execute. We have seen two kinds of statements: print being an expression statement and assignment.\n",
    "\n",
    "When you type a statement in interactive mode, the interpreter executes it and displays the result, if there is one. A script usually contains a sequence of statements. If there is more than one statement, the results appear one at a time as the statements execute.\n",
    "\n",
    "Run the following code and compare it with its output:"
   ]
  },
  {
   "cell_type": "code",
   "execution_count": null,
   "metadata": {},
   "outputs": [],
   "source": [
    "print(1)\n",
    "x = 2\n",
    "print(x)"
   ]
  },
  {
   "cell_type": "markdown",
   "metadata": {},
   "source": [
    "# Operators"
   ]
  },
  {
   "cell_type": "markdown",
   "metadata": {},
   "source": [
    "Operators are special symbols that represent computations like addition and multiplication.\n",
    "\n",
    "The operators `+`, `-`, `*`, `/`, and `**` perform addition, subtraction, multiplication, division, and exponentiation, as in the following examples:"
   ]
  },
  {
   "cell_type": "markdown",
   "metadata": {},
   "source": [
    "Addition"
   ]
  },
  {
   "cell_type": "code",
   "execution_count": null,
   "metadata": {},
   "outputs": [],
   "source": [
    "2 + 2"
   ]
  },
  {
   "cell_type": "markdown",
   "metadata": {},
   "source": [
    "Subtraction"
   ]
  },
  {
   "cell_type": "code",
   "execution_count": null,
   "metadata": {},
   "outputs": [],
   "source": [
    "6 - 3"
   ]
  },
  {
   "cell_type": "markdown",
   "metadata": {},
   "source": [
    "Multiplication"
   ]
  },
  {
   "cell_type": "code",
   "execution_count": null,
   "metadata": {},
   "outputs": [],
   "source": [
    "3 * 3"
   ]
  },
  {
   "cell_type": "markdown",
   "metadata": {},
   "source": [
    "Division"
   ]
  },
  {
   "cell_type": "code",
   "execution_count": null,
   "metadata": {},
   "outputs": [],
   "source": [
    " 10 / 2"
   ]
  },
  {
   "cell_type": "markdown",
   "metadata": {},
   "source": [
    "Exponentiation"
   ]
  },
  {
   "cell_type": "code",
   "execution_count": null,
   "metadata": {},
   "outputs": [],
   "source": [
    "2 ** 3"
   ]
  },
  {
   "cell_type": "markdown",
   "metadata": {},
   "source": [
    "Try to use them all in one statement"
   ]
  },
  {
   "cell_type": "code",
   "execution_count": null,
   "metadata": {},
   "outputs": [],
   "source": []
  },
  {
   "cell_type": "markdown",
   "metadata": {},
   "source": [
    "You can perform operations also on variables."
   ]
  },
  {
   "cell_type": "code",
   "execution_count": null,
   "metadata": {},
   "outputs": [],
   "source": [
    "pi = 3.1415926535897931\n",
    "sqr = 2\n",
    "print(pi * sqr)"
   ]
  },
  {
   "cell_type": "markdown",
   "metadata": {},
   "source": [
    "This is also helpful when you want to update a variable. You simply perform an operation on the variable and assign it to the same name.\n",
    "\n",
    "Update the code below. Multiply `x` by your age."
   ]
  },
  {
   "cell_type": "code",
   "execution_count": null,
   "metadata": {},
   "outputs": [],
   "source": [
    "x = 1\n",
    "print(x)\n",
    "#Remove this comment and type your code here\n",
    "print(x)"
   ]
  },
  {
   "cell_type": "markdown",
   "metadata": {},
   "source": [
    "**Special case!!** `//` divides two integers and truncates the result to an integer. Compare the statements below"
   ]
  },
  {
   "cell_type": "code",
   "execution_count": null,
   "metadata": {},
   "outputs": [],
   "source": [
    "5/2"
   ]
  },
  {
   "cell_type": "code",
   "execution_count": null,
   "metadata": {},
   "outputs": [],
   "source": [
    "5//2"
   ]
  },
  {
   "cell_type": "code",
   "execution_count": null,
   "metadata": {},
   "outputs": [],
   "source": [
    "5.0//2.0"
   ]
  },
  {
   "cell_type": "markdown",
   "metadata": {},
   "source": [
    "## String operations "
   ]
  },
  {
   "cell_type": "markdown",
   "metadata": {},
   "source": [
    "The `+` operator works with strings, but it is not addition in the mathematical sense. Instead it performs concatenation, which means joining the strings by linking them end to end."
   ]
  },
  {
   "cell_type": "code",
   "execution_count": null,
   "metadata": {},
   "outputs": [],
   "source": [
    "first = 10\n",
    "second = 15\n",
    "print(first + second)"
   ]
  },
  {
   "cell_type": "code",
   "execution_count": null,
   "metadata": {},
   "outputs": [],
   "source": [
    "first = '10'\n",
    "second = '15'\n",
    "print(first + second)"
   ]
  },
  {
   "cell_type": "markdown",
   "metadata": {},
   "source": [
    "The `*` operator also works with strings by multiplying the content of a string by an integer."
   ]
  },
  {
   "cell_type": "code",
   "execution_count": null,
   "metadata": {},
   "outputs": [],
   "source": [
    "first = '10'\n",
    "second = 3\n",
    "print(first * second)"
   ]
  },
  {
   "cell_type": "markdown",
   "metadata": {},
   "source": [
    "## User input"
   ]
  },
  {
   "cell_type": "markdown",
   "metadata": {},
   "source": [
    "Python provides a built-in function called `input` that gets input from the keyboard. When this function is called, the program stops and waits for the user to type something. When the user presses `Return` or `Enter`, the program resumes and `input` returns what the user typed as a string.\n",
    "\n",
    "Try it yourself:"
   ]
  },
  {
   "cell_type": "code",
   "execution_count": null,
   "metadata": {},
   "outputs": [],
   "source": [
    "inp = input()"
   ]
  },
  {
   "cell_type": "markdown",
   "metadata": {},
   "source": [
    "To print the value entered by the user, you simply print the variable it was assigned to. "
   ]
  },
  {
   "cell_type": "code",
   "execution_count": null,
   "metadata": {},
   "outputs": [],
   "source": [
    "print(inp)\n"
   ]
  },
  {
   "cell_type": "markdown",
   "metadata": {},
   "source": [
    "You can pass a string to `input` to be displayed to the user before pausing for input:"
   ]
  },
  {
   "cell_type": "code",
   "execution_count": null,
   "metadata": {},
   "outputs": [],
   "source": [
    "name = input('What is your name?\\n')"
   ]
  },
  {
   "cell_type": "markdown",
   "metadata": {},
   "source": [
    "The sequence `\\n` at the end of the prompt represents a newline, which is a special character that causes a line break. That's why the user's input appears below the prompt.\n",
    "\n",
    "Now you can print your name:"
   ]
  },
  {
   "cell_type": "code",
   "execution_count": null,
   "metadata": {},
   "outputs": [],
   "source": [
    "name"
   ]
  },
  {
   "cell_type": "markdown",
   "metadata": {},
   "source": [
    "Now you can try it yourself.  \n",
    "1. Ask your user to type the number of books s/he read last month.  \n",
    "2. Assign the value to `number` vriable  \n",
    "3. Transform `number` variable to an integer using `int()` (use `help()` if you need it)  \n",
    "4. Calculate the difference between the user and an average person (an average person reads 1 book a month)  "
   ]
  },
  {
   "cell_type": "code",
   "execution_count": null,
   "metadata": {},
   "outputs": [],
   "source": [
    "b = input(\"books \\n\")\n",
    "b = b - 1\n",
    "b = str(b)\n",
    "print('you read ' + b + ' books than the average person')"
   ]
  },
  {
   "cell_type": "markdown",
   "metadata": {},
   "source": [
    "**Attention!!!**  \n",
    "If you expect the user to type a numeric value and the user types something other than a string of digits, you get an error (try to type the answer as a string, e.g. `six` instead of `6`). Why does it happen?\n",
    "\n",
    "Later, we wil learn how to deal with such cases."
   ]
  },
  {
   "cell_type": "markdown",
   "metadata": {},
   "source": [
    "## Comments"
   ]
  },
  {
   "cell_type": "markdown",
   "metadata": {},
   "source": [
    "As programs get bigger and more complicated, they get more difficult to read. For this reason, it is a good idea to add notes to your programs to explain in natural language what the program is doing. These notes are called comments, and in Python they start with the # symbol:"
   ]
  },
  {
   "cell_type": "code",
   "execution_count": null,
   "metadata": {},
   "outputs": [],
   "source": [
    "# compute the velocity in meters  per second of an object that moves 60 km/h\n",
    "\n",
    "s = 60*1000 #distance in meters\n",
    "t = 1*3600 #time in seconds\n",
    "\n",
    "#velocity formula: s/t\n",
    "\n",
    "v = s/t \n",
    "\n",
    "print(v)"
   ]
  },
  {
   "cell_type": "markdown",
   "metadata": {},
   "source": [
    "Everything from the # to the end of the line is ignored; it has no effect on the program."
   ]
  }
 ],
 "metadata": {
  "kernelspec": {
   "display_name": "Python 3 (ipykernel)",
   "language": "python",
   "name": "python3"
  },
  "language_info": {
   "codemirror_mode": {
    "name": "ipython",
    "version": 3
   },
   "file_extension": ".py",
   "mimetype": "text/x-python",
   "name": "python",
   "nbconvert_exporter": "python",
   "pygments_lexer": "ipython3",
   "version": "3.9.16"
  }
 },
 "nbformat": 4,
 "nbformat_minor": 4
}
